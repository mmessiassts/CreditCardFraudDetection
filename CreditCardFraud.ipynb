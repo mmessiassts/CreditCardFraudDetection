{
  "nbformat": 4,
  "nbformat_minor": 0,
  "metadata": {
    "colab": {
      "provenance": [],
      "authorship_tag": "ABX9TyMSsE0AljDjqC/a/zzZE6Wu",
      "include_colab_link": true
    },
    "kernelspec": {
      "name": "python3",
      "display_name": "Python 3"
    },
    "language_info": {
      "name": "python"
    }
  },
  "cells": [
    {
      "cell_type": "markdown",
      "metadata": {
        "id": "view-in-github",
        "colab_type": "text"
      },
      "source": [
        "<a href=\"https://colab.research.google.com/github/mmessiassts/CreditCardFraudDetection/blob/main/CreditCardFraud.ipynb\" target=\"_parent\"><img src=\"https://colab.research.google.com/assets/colab-badge.svg\" alt=\"Open In Colab\"/></a>"
      ]
    },
    {
      "cell_type": "markdown",
      "source": [
        "Credit Card Fraud Detection\n",
        "\n",
        "This notebook functions as a demonstration illustrating how to explore, analyze, and construct predictive models for this particular dataset."
      ],
      "metadata": {
        "id": "QyVexk_jL9LN"
      }
    },
    {
      "cell_type": "code",
      "execution_count": 4,
      "metadata": {
        "id": "IraehSr_L5-O"
      },
      "outputs": [],
      "source": [
        "import pandas as pd\n",
        "import numpy as np\n",
        "import matplotlib.pyplot as plt\n",
        "import seaborn as sns\n",
        "\n",
        "# Load the dataset\n",
        "df = pd.read_csv('creditcard_2023.csv')"
      ]
    },
    {
      "cell_type": "markdown",
      "source": [
        "Histogram for Feature Distribution"
      ],
      "metadata": {
        "id": "yRBwKgVtPUzJ"
      }
    },
    {
      "cell_type": "code",
      "source": [
        "plt.figure(figsize=(12, 6))\n",
        "sns.histplot(df['V1'], bins=50, kde=True)\n",
        "plt.title('Distribution of Feature V1')\n",
        "plt.xlabel('V1 Value')\n",
        "plt.ylabel('Frequency')\n",
        "plt.show()"
      ],
      "metadata": {
        "id": "8-ARI14xPZCo"
      },
      "execution_count": null,
      "outputs": []
    },
    {
      "cell_type": "markdown",
      "source": [
        "Correlation Heatmap"
      ],
      "metadata": {
        "id": "yAI71J8HPonm"
      }
    },
    {
      "cell_type": "code",
      "source": [
        "correlation_matrix = df.corr()\n",
        "plt.figure(figsize=(12, 8))\n",
        "sns.heatmap(correlation_matrix, annot=False, cmap='coolwarm', linewidths=0.5)\n",
        "plt.title('Correlation Heatmap')\n",
        "plt.show()"
      ],
      "metadata": {
        "id": "sMS4KTIMPp6k"
      },
      "execution_count": null,
      "outputs": []
    },
    {
      "cell_type": "markdown",
      "source": [
        "Box Plot for Feature Outliers"
      ],
      "metadata": {
        "id": "0aTHsphVP0WE"
      }
    },
    {
      "cell_type": "code",
      "source": [
        "plt.figure(figsize=(12, 6))\n",
        "sns.boxplot(x='Class', y='V2', data=df)\n",
        "plt.title('Box Plot of Feature V2 by Class')\n",
        "plt.xlabel('Class (0: Non-Fraud, 1: Fraud)')\n",
        "plt.ylabel('V2 Value')\n",
        "plt.show()"
      ],
      "metadata": {
        "id": "7nkfYfipP1p7"
      },
      "execution_count": null,
      "outputs": []
    },
    {
      "cell_type": "markdown",
      "source": [
        "2D Distribution"
      ],
      "metadata": {
        "id": "zhhj_BXNP8DP"
      }
    },
    {
      "cell_type": "code",
      "source": [
        "plt.figure(figsize=(10, 6))\n",
        "plt.scatter(df[df['Class'] == 0]['V1'], df[df['Class'] == 0]['V2'], label='Non-Fraud', alpha=0.5, c='blue')\n",
        "plt.scatter(df[df['Class'] == 1]['V1'], df[df['Class'] == 1]['V2'], label='Fraud', alpha=0.5, c='red')\n",
        "plt.title('2D Distribution of V1 and V2 by Class')\n",
        "plt.xlabel('V1')\n",
        "plt.ylabel('V2')\n",
        "plt.legend(loc='upper right')\n",
        "plt.show()"
      ],
      "metadata": {
        "id": "90xGcHuBP9Rk"
      },
      "execution_count": null,
      "outputs": []
    },
    {
      "cell_type": "markdown",
      "source": [
        "Violin Plot for Feature Distribution by Class"
      ],
      "metadata": {
        "id": "7qhhxJ2oQC9a"
      }
    },
    {
      "cell_type": "code",
      "source": [
        "plt.figure(figsize=(12, 6))\n",
        "sns.violinplot(x='Class', y='V3', data=df)\n",
        "plt.title('Violin Plot of Feature V3 by Class')\n",
        "plt.xlabel('Class (0: Non-Fraud, 1: Fraud)')\n",
        "plt.ylabel('V3 Value')\n",
        "plt.show()"
      ],
      "metadata": {
        "id": "C7x-Y-nrQG7q"
      },
      "execution_count": null,
      "outputs": []
    }
  ]
}